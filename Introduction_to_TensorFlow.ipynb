{
  "nbformat": 4,
  "nbformat_minor": 0,
  "metadata": {
    "colab": {
      "name": "Introduction_to_TensorFlow.ipynb",
      "provenance": [],
      "toc_visible": true,
      "authorship_tag": "ABX9TyPWYhDrpsNuy60hT7dYmTTW",
      "include_colab_link": true
    },
    "kernelspec": {
      "name": "python3",
      "display_name": "Python 3"
    },
    "language_info": {
      "name": "python"
    }
  },
  "cells": [
    {
      "cell_type": "markdown",
      "metadata": {
        "id": "view-in-github",
        "colab_type": "text"
      },
      "source": [
        "<a href=\"https://colab.research.google.com/github/imamahasane/TensorFlow_2.0/blob/main/Introduction_to_TensorFlow.ipynb\" target=\"_parent\"><img src=\"https://colab.research.google.com/assets/colab-badge.svg\" alt=\"Open In Colab\"/></a>"
      ]
    },
    {
      "cell_type": "code",
      "metadata": {
        "colab": {
          "base_uri": "https://localhost:8080/"
        },
        "id": "KVpse_TgU9O_",
        "outputId": "478206e6-a10a-4181-ec44-32f1c8e92a17"
      },
      "source": [
        "%tensorflow_version 2.x\n",
        "import tensorflow as tf\n",
        "print(tf.version)"
      ],
      "execution_count": 1,
      "outputs": [
        {
          "output_type": "stream",
          "name": "stdout",
          "text": [
            "<module 'tensorflow._api.v2.version' from '/usr/local/lib/python3.7/dist-packages/tensorflow/_api/v2/version/__init__.py'>\n"
          ]
        }
      ]
    },
    {
      "cell_type": "markdown",
      "metadata": {
        "id": "4gHmrrkBv70H"
      },
      "source": [
        "# Creating Tensors"
      ]
    },
    {
      "cell_type": "code",
      "metadata": {
        "id": "i9qrpvDmVQxq"
      },
      "source": [
        " string = tf.Variable(\"Imam Ahasan\", tf.string)\n",
        " number = tf.Variable(324, tf.int16)\n",
        " floating = tf.Variable(3.242, tf.float64)"
      ],
      "execution_count": 2,
      "outputs": []
    },
    {
      "cell_type": "markdown",
      "metadata": {
        "id": "3WqVqQefwLev"
      },
      "source": [
        "# Rank / Degree of Tensors"
      ]
    },
    {
      "cell_type": "code",
      "metadata": {
        "id": "qvSPQ8BvwVP-"
      },
      "source": [
        "r1_tensor = tf.Variable([\"Test\"], tf.string)\n",
        "r2_tensor = tf.Variable([[\"Test\", \"Ok\"], [\"Imam\", \"Onik\"]], tf.string)"
      ],
      "execution_count": 5,
      "outputs": []
    },
    {
      "cell_type": "code",
      "metadata": {
        "colab": {
          "base_uri": "https://localhost:8080/"
        },
        "id": "F8qLFtM-w5k0",
        "outputId": "e558da65-4055-426d-9aad-394c1ac5e915"
      },
      "source": [
        "tf.rank(r1_tensor)"
      ],
      "execution_count": 6,
      "outputs": [
        {
          "output_type": "execute_result",
          "data": {
            "text/plain": [
              "<tf.Tensor: shape=(), dtype=int32, numpy=1>"
            ]
          },
          "metadata": {},
          "execution_count": 6
        }
      ]
    },
    {
      "cell_type": "code",
      "metadata": {
        "colab": {
          "base_uri": "https://localhost:8080/"
        },
        "id": "amIhGLFPxATL",
        "outputId": "ef4c8e4c-450c-4af1-cfae-5bca0bcb8623"
      },
      "source": [
        "tf.rank(r2_tensor)"
      ],
      "execution_count": 7,
      "outputs": [
        {
          "output_type": "execute_result",
          "data": {
            "text/plain": [
              "<tf.Tensor: shape=(), dtype=int32, numpy=2>"
            ]
          },
          "metadata": {},
          "execution_count": 7
        }
      ]
    },
    {
      "cell_type": "markdown",
      "metadata": {
        "id": "dWwPM9O5xQ3Y"
      },
      "source": [
        "# Shape of Tensor"
      ]
    },
    {
      "cell_type": "code",
      "metadata": {
        "colab": {
          "base_uri": "https://localhost:8080/"
        },
        "id": "7H3yoLBKxFWB",
        "outputId": "d44b4c7c-47cf-4482-9ad0-1130a8da52d7"
      },
      "source": [
        "r1_tensor.shape"
      ],
      "execution_count": 8,
      "outputs": [
        {
          "output_type": "execute_result",
          "data": {
            "text/plain": [
              "TensorShape([1])"
            ]
          },
          "metadata": {},
          "execution_count": 8
        }
      ]
    },
    {
      "cell_type": "code",
      "metadata": {
        "colab": {
          "base_uri": "https://localhost:8080/"
        },
        "id": "-3oPgz6gxHZS",
        "outputId": "f01816d4-ae7e-4844-9da9-c0754c14ac18"
      },
      "source": [
        "r2_tensor.shape"
      ],
      "execution_count": 9,
      "outputs": [
        {
          "output_type": "execute_result",
          "data": {
            "text/plain": [
              "TensorShape([2, 2])"
            ]
          },
          "metadata": {},
          "execution_count": 9
        }
      ]
    },
    {
      "cell_type": "markdown",
      "metadata": {
        "id": "WF0DcgK8xfPI"
      },
      "source": [
        "# Changing Shape"
      ]
    },
    {
      "cell_type": "code",
      "metadata": {
        "id": "2onGbXn7xKD4"
      },
      "source": [
        "t1 = tf.ones([1, 2, 3])\n",
        "t2 = tf.reshape(t1, [3, 2, 1])\n",
        "t3 = tf.reshape(t2, [2, -1])"
      ],
      "execution_count": 16,
      "outputs": []
    },
    {
      "cell_type": "code",
      "metadata": {
        "colab": {
          "base_uri": "https://localhost:8080/"
        },
        "id": "Ws5fallMx4bB",
        "outputId": "f120251a-93b9-4f90-d7d5-c93bd0fe44a4"
      },
      "source": [
        "print(t1)"
      ],
      "execution_count": 18,
      "outputs": [
        {
          "output_type": "stream",
          "name": "stdout",
          "text": [
            "tf.Tensor(\n",
            "[[[1. 1. 1.]\n",
            "  [1. 1. 1.]]], shape=(1, 2, 3), dtype=float32)\n"
          ]
        }
      ]
    },
    {
      "cell_type": "code",
      "metadata": {
        "colab": {
          "base_uri": "https://localhost:8080/"
        },
        "id": "os51vYtq2DZh",
        "outputId": "251052cd-e46f-44a7-9991-aeb925f08b75"
      },
      "source": [
        "print(t2)"
      ],
      "execution_count": 19,
      "outputs": [
        {
          "output_type": "stream",
          "name": "stdout",
          "text": [
            "tf.Tensor(\n",
            "[[[1.]\n",
            "  [1.]]\n",
            "\n",
            " [[1.]\n",
            "  [1.]]\n",
            "\n",
            " [[1.]\n",
            "  [1.]]], shape=(3, 2, 1), dtype=float32)\n"
          ]
        }
      ]
    },
    {
      "cell_type": "code",
      "metadata": {
        "colab": {
          "base_uri": "https://localhost:8080/"
        },
        "id": "3eNiSMW-2Hqs",
        "outputId": "daf46673-04f4-4926-ae7e-d59cc515b2fc"
      },
      "source": [
        "print(t3)"
      ],
      "execution_count": 20,
      "outputs": [
        {
          "output_type": "stream",
          "name": "stdout",
          "text": [
            "tf.Tensor(\n",
            "[[1. 1. 1.]\n",
            " [1. 1. 1.]], shape=(2, 3), dtype=float32)\n"
          ]
        }
      ]
    },
    {
      "cell_type": "code",
      "metadata": {
        "id": "0pZ7eKn32JHc"
      },
      "source": [
        ""
      ],
      "execution_count": null,
      "outputs": []
    }
  ]
}